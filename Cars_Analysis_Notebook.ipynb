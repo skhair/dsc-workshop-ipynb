{
 "cells": [
  {
   "cell_type": "markdown",
   "metadata": {},
   "source": [
    "#### DATA PROCESSING"
   ]
  },
  {
   "cell_type": "code",
   "execution_count": 9,
   "metadata": {},
   "outputs": [],
   "source": [
    "# Read in the mtcars dataset into a new object called 'car_data'.\n",
    "\n",
    "car_data <- read.csv(\"./cars_project/data_raw/mtcars.csv\")\n"
   ]
  },
  {
   "cell_type": "code",
   "execution_count": 10,
   "metadata": {},
   "outputs": [
    {
     "data": {
      "text/html": [
       "<table>\n",
       "<thead><tr><th scope=col>model</th><th scope=col>mpg</th><th scope=col>cyl</th><th scope=col>disp</th><th scope=col>hp</th><th scope=col>drat</th><th scope=col>wt</th><th scope=col>qsec</th><th scope=col>vs</th><th scope=col>am</th><th scope=col>gear</th><th scope=col>carb</th></tr></thead>\n",
       "<tbody>\n",
       "\t<tr><td>Mazda RX4        </td><td>21.0             </td><td>6                </td><td>160              </td><td>110              </td><td>3.90             </td><td>2.620            </td><td>16.46            </td><td>0                </td><td>1                </td><td>4                </td><td>4                </td></tr>\n",
       "\t<tr><td>Mazda RX4 Wag    </td><td>21.0             </td><td>6                </td><td>160              </td><td>110              </td><td>3.90             </td><td>2.875            </td><td>17.02            </td><td>0                </td><td>1                </td><td>4                </td><td>4                </td></tr>\n",
       "\t<tr><td>Datsun 710       </td><td>22.8             </td><td>4                </td><td>108              </td><td> 93              </td><td>3.85             </td><td>2.320            </td><td>18.61            </td><td>1                </td><td>1                </td><td>4                </td><td>1                </td></tr>\n",
       "\t<tr><td>Hornet 4 Drive   </td><td>21.4             </td><td>6                </td><td>258              </td><td>110              </td><td>3.08             </td><td>3.215            </td><td>19.44            </td><td>1                </td><td>0                </td><td>3                </td><td>1                </td></tr>\n",
       "\t<tr><td>Hornet Sportabout</td><td>18.7             </td><td>8                </td><td>360              </td><td>175              </td><td>3.15             </td><td>3.440            </td><td>17.02            </td><td>0                </td><td>0                </td><td>3                </td><td>2                </td></tr>\n",
       "\t<tr><td>Valiant          </td><td>18.1             </td><td>6                </td><td>225              </td><td>105              </td><td>2.76             </td><td>3.460            </td><td>20.22            </td><td>1                </td><td>0                </td><td>3                </td><td>1                </td></tr>\n",
       "</tbody>\n",
       "</table>\n"
      ],
      "text/latex": [
       "\\begin{tabular}{r|llllllllllll}\n",
       " model & mpg & cyl & disp & hp & drat & wt & qsec & vs & am & gear & carb\\\\\n",
       "\\hline\n",
       "\t Mazda RX4         & 21.0              & 6                 & 160               & 110               & 3.90              & 2.620             & 16.46             & 0                 & 1                 & 4                 & 4                \\\\\n",
       "\t Mazda RX4 Wag     & 21.0              & 6                 & 160               & 110               & 3.90              & 2.875             & 17.02             & 0                 & 1                 & 4                 & 4                \\\\\n",
       "\t Datsun 710        & 22.8              & 4                 & 108               &  93               & 3.85              & 2.320             & 18.61             & 1                 & 1                 & 4                 & 1                \\\\\n",
       "\t Hornet 4 Drive    & 21.4              & 6                 & 258               & 110               & 3.08              & 3.215             & 19.44             & 1                 & 0                 & 3                 & 1                \\\\\n",
       "\t Hornet Sportabout & 18.7              & 8                 & 360               & 175               & 3.15              & 3.440             & 17.02             & 0                 & 0                 & 3                 & 2                \\\\\n",
       "\t Valiant           & 18.1              & 6                 & 225               & 105               & 2.76              & 3.460             & 20.22             & 1                 & 0                 & 3                 & 1                \\\\\n",
       "\\end{tabular}\n"
      ],
      "text/markdown": [
       "\n",
       "| model | mpg | cyl | disp | hp | drat | wt | qsec | vs | am | gear | carb |\n",
       "|---|---|---|---|---|---|---|---|---|---|---|---|\n",
       "| Mazda RX4         | 21.0              | 6                 | 160               | 110               | 3.90              | 2.620             | 16.46             | 0                 | 1                 | 4                 | 4                 |\n",
       "| Mazda RX4 Wag     | 21.0              | 6                 | 160               | 110               | 3.90              | 2.875             | 17.02             | 0                 | 1                 | 4                 | 4                 |\n",
       "| Datsun 710        | 22.8              | 4                 | 108               |  93               | 3.85              | 2.320             | 18.61             | 1                 | 1                 | 4                 | 1                 |\n",
       "| Hornet 4 Drive    | 21.4              | 6                 | 258               | 110               | 3.08              | 3.215             | 19.44             | 1                 | 0                 | 3                 | 1                 |\n",
       "| Hornet Sportabout | 18.7              | 8                 | 360               | 175               | 3.15              | 3.440             | 17.02             | 0                 | 0                 | 3                 | 2                 |\n",
       "| Valiant           | 18.1              | 6                 | 225               | 105               | 2.76              | 3.460             | 20.22             | 1                 | 0                 | 3                 | 1                 |\n",
       "\n"
      ],
      "text/plain": [
       "  model             mpg  cyl disp hp  drat wt    qsec  vs am gear carb\n",
       "1 Mazda RX4         21.0 6   160  110 3.90 2.620 16.46 0  1  4    4   \n",
       "2 Mazda RX4 Wag     21.0 6   160  110 3.90 2.875 17.02 0  1  4    4   \n",
       "3 Datsun 710        22.8 4   108   93 3.85 2.320 18.61 1  1  4    1   \n",
       "4 Hornet 4 Drive    21.4 6   258  110 3.08 3.215 19.44 1  0  3    1   \n",
       "5 Hornet Sportabout 18.7 8   360  175 3.15 3.440 17.02 0  0  3    2   \n",
       "6 Valiant           18.1 6   225  105 2.76 3.460 20.22 1  0  3    1   "
      ]
     },
     "metadata": {},
     "output_type": "display_data"
    },
    {
     "name": "stdout",
     "output_type": "stream",
     "text": [
      "'data.frame':\t32 obs. of  12 variables:\n",
      " $ model: Factor w/ 32 levels \"AMC Javelin\",..: 18 19 5 13 14 31 7 21 20 22 ...\n",
      " $ mpg  : num  21 21 22.8 21.4 18.7 18.1 14.3 24.4 22.8 19.2 ...\n",
      " $ cyl  : int  6 6 4 6 8 6 8 4 4 6 ...\n",
      " $ disp : num  160 160 108 258 360 ...\n",
      " $ hp   : int  110 110 93 110 175 105 245 62 95 123 ...\n",
      " $ drat : num  3.9 3.9 3.85 3.08 3.15 2.76 3.21 3.69 3.92 3.92 ...\n",
      " $ wt   : num  2.62 2.88 2.32 3.21 3.44 ...\n",
      " $ qsec : num  16.5 17 18.6 19.4 17 ...\n",
      " $ vs   : int  0 0 1 1 0 1 0 1 1 1 ...\n",
      " $ am   : int  1 1 1 0 0 0 0 0 0 0 ...\n",
      " $ gear : int  4 4 4 3 3 3 3 4 4 4 ...\n",
      " $ carb : int  4 4 1 1 2 1 4 2 2 4 ...\n"
     ]
    }
   ],
   "source": [
    "# Preview the data. The 'head()' function returns the first 6 rows of a matrix. \n",
    "\n",
    "head(car_data)\n",
    "str(car_data)"
   ]
  },
  {
   "cell_type": "code",
   "execution_count": 11,
   "metadata": {},
   "outputs": [],
   "source": [
    "# According to the readme file, the variable 'am' represents transmission: \n",
    "# '0' = manual, '1' = automatic; and the variable 'vs' represents engine shape:\n",
    "# '0' = V-shaped, '1' = straight. R is reading these variables as integers. \n",
    "# Convert them to factors.\n",
    "\n",
    "car_data$am <- as.factor(car_data$am)\n",
    "car_data$vs <- as.factor(car_data$vs)"
   ]
  },
  {
   "cell_type": "code",
   "execution_count": 12,
   "metadata": {},
   "outputs": [
    {
     "name": "stdout",
     "output_type": "stream",
     "text": [
      "'data.frame':\t32 obs. of  12 variables:\n",
      " $ model: Factor w/ 32 levels \"AMC Javelin\",..: 18 19 5 13 14 31 7 21 20 22 ...\n",
      " $ mpg  : num  21 21 22.8 21.4 18.7 18.1 14.3 24.4 22.8 19.2 ...\n",
      " $ cyl  : int  6 6 4 6 8 6 8 4 4 6 ...\n",
      " $ disp : num  160 160 108 258 360 ...\n",
      " $ hp   : int  110 110 93 110 175 105 245 62 95 123 ...\n",
      " $ drat : num  3.9 3.9 3.85 3.08 3.15 2.76 3.21 3.69 3.92 3.92 ...\n",
      " $ wt   : num  2.62 2.88 2.32 3.21 3.44 ...\n",
      " $ qsec : num  16.5 17 18.6 19.4 17 ...\n",
      " $ vs   : Factor w/ 2 levels \"0\",\"1\": 1 1 2 2 1 2 1 2 2 2 ...\n",
      " $ am   : Factor w/ 2 levels \"0\",\"1\": 2 2 2 1 1 1 1 1 1 1 ...\n",
      " $ gear : int  4 4 4 3 3 3 3 4 4 4 ...\n",
      " $ carb : int  4 4 1 1 2 1 4 2 2 4 ...\n"
     ]
    }
   ],
   "source": [
    "# Visually inspect the change.\n",
    "\n",
    "str(car_data)"
   ]
  },
  {
   "cell_type": "markdown",
   "metadata": {},
   "source": [
    "#### DATA ANALYSIS"
   ]
  },
  {
   "cell_type": "code",
   "execution_count": 9,
   "metadata": {},
   "outputs": [
    {
     "data": {
      "text/plain": [
       "                model         mpg             cyl             disp      \n",
       " AMC Javelin       : 1   Min.   :10.40   Min.   :4.000   Min.   : 71.1  \n",
       " Cadillac Fleetwood: 1   1st Qu.:15.43   1st Qu.:4.000   1st Qu.:120.8  \n",
       " Camaro Z28        : 1   Median :19.20   Median :6.000   Median :196.3  \n",
       " Chrysler Imperial : 1   Mean   :20.09   Mean   :6.188   Mean   :230.7  \n",
       " Datsun 710        : 1   3rd Qu.:22.80   3rd Qu.:8.000   3rd Qu.:326.0  \n",
       " Dodge Challenger  : 1   Max.   :33.90   Max.   :8.000   Max.   :472.0  \n",
       " (Other)           :26                                                  \n",
       "       hp             drat             wt             qsec       vs     am    \n",
       " Min.   : 52.0   Min.   :2.760   Min.   :1.513   Min.   :14.50   0:18   0:19  \n",
       " 1st Qu.: 96.5   1st Qu.:3.080   1st Qu.:2.581   1st Qu.:16.89   1:14   1:13  \n",
       " Median :123.0   Median :3.695   Median :3.325   Median :17.71                \n",
       " Mean   :146.7   Mean   :3.597   Mean   :3.217   Mean   :17.85                \n",
       " 3rd Qu.:180.0   3rd Qu.:3.920   3rd Qu.:3.610   3rd Qu.:18.90                \n",
       " Max.   :335.0   Max.   :4.930   Max.   :5.424   Max.   :22.90                \n",
       "                                                                              \n",
       "      gear            carb      \n",
       " Min.   :3.000   Min.   :1.000  \n",
       " 1st Qu.:3.000   1st Qu.:2.000  \n",
       " Median :4.000   Median :2.000  \n",
       " Mean   :3.688   Mean   :2.812  \n",
       " 3rd Qu.:4.000   3rd Qu.:4.000  \n",
       " Max.   :5.000   Max.   :8.000  \n",
       "                                "
      ]
     },
     "metadata": {},
     "output_type": "display_data"
    }
   ],
   "source": [
    "# Explore the variation in our dataset variables.\n",
    "\n",
    "summary(car_data)"
   ]
  },
  {
   "cell_type": "code",
   "execution_count": 10,
   "metadata": {},
   "outputs": [
    {
     "name": "stderr",
     "output_type": "stream",
     "text": [
      "Warning message:\n",
      "\"package 'ggplot2' was built under R version 3.6.2\""
     ]
    }
   ],
   "source": [
    "# Load the 'ggplot2' library.\n",
    "\n",
    "library(ggplot2)\n"
   ]
  },
  {
   "cell_type": "code",
   "execution_count": 11,
   "metadata": {
    "scrolled": true
   },
   "outputs": [
    {
     "data": {
      "image/png": "[encoded data removed]",
      "text/plain": [
       "plot without title"
      ]
     },
     "metadata": {},
     "output_type": "display_data"
    }
   ],
   "source": [
    "# Examine the effect of horsepower 'hp' on fuel consumption 'mpg' with a \n",
    "# scatterplot, \n",
    "\n",
    "plot1 <- ggplot(car_data, aes(hp, mpg)) + geom_point() +\n",
    "  geom_smooth(method = \"lm\", se = FALSE) +\n",
    "  ylab(\"Miles per Gallon\") +\n",
    "  xlab(\"Horsepower\") +\n",
    "  ggtitle(\"Effect of Number of Horsepower on Fuel Consuption\")\n",
    "\n",
    "plot1"
   ]
  },
  {
   "cell_type": "code",
   "execution_count": 15,
   "metadata": {
    "scrolled": true
   },
   "outputs": [
    {
     "data": {
      "image/png": "[encoded data removed]",
      "text/plain": [
       "plot without title"
      ]
     },
     "metadata": {},
     "output_type": "display_data"
    }
   ],
   "source": [
    "# Examine the influence of transmission type 'am' on the trend observed.\n",
    "\n",
    "plot2 <- ggplot(car_data, aes(hp, mpg, color=factor(am))) + geom_point() +\n",
    "  geom_smooth(method = \"lm\", se = FALSE) +\n",
    "  ylab(\"Miles per Gallon\") +\n",
    "  xlab(\"Horsepower\") +\n",
    "  ggtitle(\"Effect of Number of Horsepower on Fuel Consuption, by Transmission\")\n",
    "\n",
    "plot2"
   ]
  },
  {
   "cell_type": "code",
   "execution_count": 14,
   "metadata": {},
   "outputs": [
    {
     "data": {
      "text/plain": [
       "\n",
       "Call:\n",
       "lm(formula = mpg ~ am, data = car_data)\n",
       "\n",
       "Residuals:\n",
       "    Min      1Q  Median      3Q     Max \n",
       "-9.3923 -3.0923 -0.2974  3.2439  9.5077 \n",
       "\n",
       "Coefficients:\n",
       "            Estimate Std. Error t value Pr(>|t|)    \n",
       "(Intercept)   17.147      1.125  15.247 1.13e-15 ***\n",
       "am1            7.245      1.764   4.106 0.000285 ***\n",
       "---\n",
       "Signif. codes:  0 '***' 0.001 '**' 0.01 '*' 0.05 '.' 0.1 ' ' 1\n",
       "\n",
       "Residual standard error: 4.902 on 30 degrees of freedom\n",
       "Multiple R-squared:  0.3598,\tAdjusted R-squared:  0.3385 \n",
       "F-statistic: 16.86 on 1 and 30 DF,  p-value: 0.000285\n"
      ]
     },
     "metadata": {},
     "output_type": "display_data"
    }
   ],
   "source": [
    "# The analysis shows an effect of transmission type 'am' on fuel consuption \n",
    "# 'mpg'. Examine further with a simple linear regression model.\n",
    "\n",
    "# Fit a simple linear regression model for 'mpg' on 'am'.\n",
    "\n",
    "model1 <- lm(mpg~am, data=car_data)\n",
    "summary (model1)"
   ]
  }
 ],
 "metadata": {
  "kernelspec": {
   "display_name": "R",
   "language": "R",
   "name": "ir"
  },
  "language_info": {
   "codemirror_mode": "r",
   "file_extension": ".r",
   "mimetype": "text/x-r-source",
   "name": "R",
   "pygments_lexer": "r",
   "version": "3.6.1"
  }
 },
 "nbformat": 4,
 "nbformat_minor": 4
}
